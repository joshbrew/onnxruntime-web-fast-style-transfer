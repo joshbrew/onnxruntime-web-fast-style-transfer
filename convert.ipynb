{
 "cells": [
  {
   "cell_type": "code",
   "execution_count": 1,
   "metadata": {},
   "outputs": [
    {
     "name": "stderr",
     "output_type": "stream",
     "text": [
      "C:\\Users\\brews\\AppData\\Local\\Packages\\PythonSoftwareFoundation.Python.3.11_qbz5n2kfra8p0\\LocalCache\\local-packages\\Python311\\site-packages\\torch\\nn\\modules\\instancenorm.py:74: TracerWarning: Converting a tensor to a Python boolean might cause the trace to be incorrect. We can't record the data flow of Python values, so this value will be treated as a constant in the future. This means that the trace might not generalize to other inputs!\n",
      "  if input.size(feature_dim) != self.num_features:\n",
      "C:\\Users\\brews\\AppData\\Local\\Packages\\PythonSoftwareFoundation.Python.3.11_qbz5n2kfra8p0\\LocalCache\\local-packages\\Python311\\site-packages\\torch\\nn\\functional.py:2492: TracerWarning: Converting a tensor to a Python boolean might cause the trace to be incorrect. We can't record the data flow of Python values, so this value will be treated as a constant in the future. This means that the trace might not generalize to other inputs!\n",
      "  if size_prods == 1:\n",
      "C:\\Users\\brews\\AppData\\Local\\Packages\\PythonSoftwareFoundation.Python.3.11_qbz5n2kfra8p0\\LocalCache\\local-packages\\Python311\\site-packages\\torch\\onnx\\_internal\\jit_utils.py:307: UserWarning: Constant folding - Only steps=1 can be constant folded for opset >= 10 onnx::Slice op. Constant folding not applied. (Triggered internally at ..\\torch\\csrc\\jit\\passes\\onnx\\constant_fold.cpp:181.)\n",
      "  _C._jit_pass_onnx_node_shape_type_inference(node, params_dict, opset_version)\n",
      "C:\\Users\\brews\\AppData\\Local\\Packages\\PythonSoftwareFoundation.Python.3.11_qbz5n2kfra8p0\\LocalCache\\local-packages\\Python311\\site-packages\\torch\\onnx\\symbolic_helper.py:1515: UserWarning: ONNX export mode is set to TrainingMode.EVAL, but operator 'instance_norm' is set to train=True. Exporting with train=True.\n",
      "  warnings.warn(\n",
      "C:\\Users\\brews\\AppData\\Local\\Packages\\PythonSoftwareFoundation.Python.3.11_qbz5n2kfra8p0\\LocalCache\\local-packages\\Python311\\site-packages\\torch\\onnx\\utils.py:702: UserWarning: Constant folding - Only steps=1 can be constant folded for opset >= 10 onnx::Slice op. Constant folding not applied. (Triggered internally at ..\\torch\\csrc\\jit\\passes\\onnx\\constant_fold.cpp:181.)\n",
      "  _C._jit_pass_onnx_graph_shape_type_inference(\n",
      "C:\\Users\\brews\\AppData\\Local\\Packages\\PythonSoftwareFoundation.Python.3.11_qbz5n2kfra8p0\\LocalCache\\local-packages\\Python311\\site-packages\\torch\\onnx\\utils.py:1209: UserWarning: Constant folding - Only steps=1 can be constant folded for opset >= 10 onnx::Slice op. Constant folding not applied. (Triggered internally at ..\\torch\\csrc\\jit\\passes\\onnx\\constant_fold.cpp:181.)\n",
      "  _C._jit_pass_onnx_graph_shape_type_inference(\n"
     ]
    },
    {
     "name": "stdout",
     "output_type": "stream",
     "text": [
      "Model loaded from test/model.pth and saved to test/model.onnx in ONNX format with dynamic input resolution.\n"
     ]
    }
   ],
   "source": [
    "\n",
    "\n",
    "import torch.onnx\n",
    "\n",
    "from transformer_net import TransformerNet\n",
    "\n",
    "# Define your paths and options here\n",
    "dataset_path = \"train\"\n",
    "style_image_path = \"test/capture.png\"\n",
    "save_model_dir = \"test\"\n",
    "model_name = \"model.onnx\"\n",
    "output_image = \"test/output.png\"\n",
    "\n",
    "def export_to_onnx(pth_path, onnx_path, image_size=(1280, 720)):\n",
    "    \"\"\"\n",
    "    Load a .pth file and export the model to ONNX format.\n",
    "\n",
    "    Parameters:\n",
    "    - pth_path: Path to the .pth file containing the model's state_dict.\n",
    "    - onnx_path: Path where the ONNX model should be saved.\n",
    "    - image_size: Tuple indicating the height and width of the input images. Defaults to (224, 224).\n",
    "    \"\"\"\n",
    "    # Ensure the TransformerNet class is defined or imported correctly\n",
    "    transformer = TransformerNet()\n",
    "\n",
    "    # Load the model weights\n",
    "    transformer.load_state_dict(torch.load(pth_path))\n",
    "    transformer.eval().cpu()  # Set to evaluation mode and move to CPU\n",
    "\n",
    "    # Prepare a dummy input for ONNX export. The size can be dynamic\n",
    "    dummy_input = torch.randn(1, 3, *image_size)  # Assuming the model expects CxHxW images\n",
    "\n",
    "    # Export the model to ONNX with dynamic axes for flexible input dimensions\n",
    "    torch.onnx.export(transformer, dummy_input, onnx_path, \n",
    "                      export_params=True, opset_version=12,\n",
    "                      do_constant_folding=True, \n",
    "                      input_names=['input'], output_names=['output'],\n",
    "                      dynamic_axes={'input': {0: 'batch_size', 2: 'height', 3: 'width'}, # currently will match input and output sizes, this can be separated for compression reasons\n",
    "                                    'output': {0: 'batch_size', 2: 'height', 3: 'width'}})\n",
    "    # TODO: Fix this so input and output dimensions can be separated, e.g. for compression reasons. We could for example render a small source image to a large canvas to save on encoding time\n",
    "\n",
    "    print(f\"Model loaded from {pth_path} and saved to {onnx_path} in ONNX format with dynamic input resolution.\")\n",
    "\n",
    "export_to_onnx(save_model_dir+'/'+\"model.pth\", save_model_dir+'/'+model_name)"
   ]
  }
 ],
 "metadata": {
  "kernelspec": {
   "display_name": "Python 3",
   "language": "python",
   "name": "python3"
  },
  "language_info": {
   "codemirror_mode": {
    "name": "ipython",
    "version": 3
   },
   "file_extension": ".py",
   "mimetype": "text/x-python",
   "name": "python",
   "nbconvert_exporter": "python",
   "pygments_lexer": "ipython3",
   "version": "3.11.8"
  }
 },
 "nbformat": 4,
 "nbformat_minor": 2
}
