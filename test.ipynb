{
 "cells": [
  {
   "cell_type": "markdown",
   "metadata": {},
   "source": [
    "## Test your model"
   ]
  },
  {
   "cell_type": "code",
   "execution_count": 5,
   "metadata": {},
   "outputs": [
    {
     "name": "stdout",
     "output_type": "stream",
     "text": [
      "Command executed successfully\n",
      "\n",
      "\n"
     ]
    }
   ],
   "source": [
    "import subprocess\n",
    "\n",
    "# Define your paths and options here\n",
    "style_image_path = \"test/capture.png\"\n",
    "save_model_dir = \"test\"\n",
    "model_name = \"model.onnx\"\n",
    "output_image = \"test/output2.png\"\n",
    "\n",
    "command2 = [\n",
    "    \"python\", \"neural_style.py\", \"eval\",\n",
    "    \"--content-image\", style_image_path,\n",
    "    \"--model\", save_model_dir+\"/\"+model_name,\n",
    "    \"--output-image\", output_image,\n",
    "    \"--cuda\", \"1\"\n",
    "]\n",
    "\n",
    "# Run the command and capture the output\n",
    "process2 = subprocess.Popen(command2, stdout=subprocess.PIPE, stderr=subprocess.PIPE, text=True)\n",
    "\n",
    "# Read output and errors\n",
    "stdout, stderr = process2.communicate()\n",
    "\n",
    "if process2.returncode == 0:\n",
    "    print(\"Command executed successfully\\n\")\n",
    "    print(stdout)\n",
    "else:\n",
    "    print(\"An error occurred\\n\")\n",
    "    print(stderr)"
   ]
  },
  {
   "cell_type": "markdown",
   "metadata": {},
   "source": []
  }
 ],
 "metadata": {
  "kernelspec": {
   "display_name": "Python 3",
   "language": "python",
   "name": "python3"
  },
  "language_info": {
   "codemirror_mode": {
    "name": "ipython",
    "version": 3
   },
   "file_extension": ".py",
   "mimetype": "text/x-python",
   "name": "python",
   "nbconvert_exporter": "python",
   "pygments_lexer": "ipython3",
   "version": "3.11.8"
  }
 },
 "nbformat": 4,
 "nbformat_minor": 2
}
