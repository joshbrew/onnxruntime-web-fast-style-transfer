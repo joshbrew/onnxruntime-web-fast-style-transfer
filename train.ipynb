{
 "cells": [
  {
   "cell_type": "markdown",
   "metadata": {},
   "source": [
    "## Train\n",
    "\n",
    "## Install dependencies\n",
    "\n",
    "pip install -r requirements.txt\n",
    "\n",
    "## Get or create a dataset.\n",
    "\n",
    "Create a folder and subfolder `train/classes` to place all of your training images. The program won't recognize it unless it's under a `classes` subfolder. \n",
    "\n",
    "The first images we used were from the recommended COCO 2014 dataset from the original example: https://cocodataset.org/#download\n",
    "\n",
    "The `--style-image` defined in [`train.ipynb`](./train.ipynb) is your reference photo. You can use drawings for example, like we did, to adopt its look and feel.\n",
    "\n",
    "The neural network will freeze this style in its memory to be able to rapidly reconstruct an image based on an input. It is supposed to be able to perform super resolution on a compressed result as well to speed up the time which we are testing.\n"
   ]
  },
  {
   "cell_type": "code",
   "execution_count": 1,
   "metadata": {},
   "outputs": [],
   "source": [
    "import subprocess\n",
    "\n",
    "# Define your paths and options here\n",
    "dataset_path = \"train\"\n",
    "style_image_path = \"test/capture.png\"\n",
    "save_model_dir = \"test\"\n",
    "output_image = \"test/output.png\"\n",
    "\n",
    "# Construct the command as a list of arguments\n",
    "command = [\n",
    "    \"python\", \"neural_style.py\", \"train\",\n",
    "    \"--dataset\", dataset_path,\n",
    "    \"--style-image\", save_model_dir+\"/mindgame.jpg\",\n",
    "    \"--save-model-dir\", save_model_dir,\n",
    "    \"--style-weight\", \"1e10\",\n",
    "    \"--content-weight\", \"1e5\",\n",
    "    \"--epochs\", \"2\",\n",
    "    \"--cuda\", \"1\"\n",
    "]\n",
    "\n",
    "# Run the command and capture the output\n",
    "process = subprocess.Popen(command, stdout=subprocess.PIPE, stderr=subprocess.PIPE, text=True)\n",
    "\n",
    "# Read output and errors\n",
    "stdout, stderr = process.communicate()\n",
    "\n",
    "if process.returncode == 0:\n",
    "    print(\"Command executed successfully\\n\")\n",
    "    print(stdout)\n",
    "else:\n",
    "    print(\"An error occurred\\n\")\n",
    "    print(stderr)"
   ]
  }
 ],
 "metadata": {
  "kernelspec": {
   "display_name": "Python 3",
   "language": "python",
   "name": "python3"
  },
  "language_info": {
   "codemirror_mode": {
    "name": "ipython",
    "version": 3
   },
   "file_extension": ".py",
   "mimetype": "text/x-python",
   "name": "python",
   "nbconvert_exporter": "python",
   "pygments_lexer": "ipython3",
   "version": "3.11.8"
  }
 },
 "nbformat": 4,
 "nbformat_minor": 2
}
